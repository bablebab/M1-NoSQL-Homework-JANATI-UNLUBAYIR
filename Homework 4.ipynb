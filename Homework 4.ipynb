{
 "cells": [
  {
   "cell_type": "code",
   "execution_count": 3,
   "id": "9586613b",
   "metadata": {},
   "outputs": [],
   "source": [
    "import py2neo\n",
    "graph = py2neo.Graph(\"bolt:://localhost:7687\", auth=(\"neo4j\", \"password4j\"), name=\"neo4j\")"
   ]
  },
  {
   "cell_type": "code",
   "execution_count": 4,
   "id": "96810406",
   "metadata": {},
   "outputs": [
    {
     "data": {
      "text/html": [
       "<table><tr><th>play</th></tr><tr><td style=\"text-align:left\">(_6555:Person {born: 1960, name: &#039;Hugo Weaving&#039;})</td></tr><tr><td style=\"text-align:left\">(_6552:Person {born: 1964, name: &#039;Keanu Reeves&#039;})</td></tr><tr><td style=\"text-align:left\">(_6554:Person {born: 1961, name: &#039;Laurence Fishburne&#039;})</td></tr></table>"
      ],
      "text/plain": [
       " play                                                    \n",
       "---------------------------------------------------------\n",
       " (_6555:Person {born: 1960, name: 'Hugo Weaving'})       \n",
       " (_6552:Person {born: 1964, name: 'Keanu Reeves'})       \n",
       " (_6554:Person {born: 1961, name: 'Laurence Fishburne'}) "
      ]
     },
     "execution_count": 4,
     "metadata": {},
     "output_type": "execute_result"
    }
   ],
   "source": [
    "# 1. How many actors played in more than 2 movie ? Get their names and year they were born.\n",
    "\n",
    "query = \"\"\"\n",
    "    MATCH (m:Movie)<-[:ACTED_IN]-(play:Person)\n",
    "    with play, count(m) as film where film > 2\n",
    "    return play\n",
    "    \"\"\"\n",
    "graph.run(query)"
   ]
  },
  {
   "cell_type": "code",
   "execution_count": 10,
   "id": "c8dd5e9d",
   "metadata": {},
   "outputs": [
    {
     "data": {
      "text/html": [
       "<table><tr><th>nombre</th></tr><tr><td style=\"text-align:right\">12</td></tr></table>"
      ],
      "text/plain": [
       " nombre \n",
       "--------\n",
       "     12 "
      ]
     },
     "execution_count": 10,
     "metadata": {},
     "output_type": "execute_result"
    }
   ],
   "source": [
    "# 2. In how many movies did Tom hanks play ?\n",
    "\n",
    "query = \"\"\"\n",
    "    MATCH (m:Movie)<-[:ACTED_IN]-(play:Person{name:\"Tom Hanks\"})\n",
    "    with count(play.name) as nombre\n",
    "    return nombre\n",
    "    \"\"\"\n",
    "graph.run(query)"
   ]
  },
  {
   "cell_type": "code",
   "execution_count": 11,
   "id": "cb487d37",
   "metadata": {},
   "outputs": [
    {
     "data": {
      "text/html": [
       "<table><tr><th>avg(film)</th></tr><tr><td style=\"text-align:right\">1.6363636363636365</td></tr></table>"
      ],
      "text/plain": [
       "          avg(film) \n",
       "--------------------\n",
       " 1.6363636363636365 "
      ]
     },
     "execution_count": 11,
     "metadata": {},
     "output_type": "execute_result"
    }
   ],
   "source": [
    "# 3. In average in how many movies do actors play in ?\n",
    "\n",
    "query = \"\"\"\n",
    "    MATCH (m:Movie)<-[:ACTED_IN]-(play:Person)\n",
    "    with play, count(m) as film\n",
    "    return avg(film)\n",
    "\"\"\"\n",
    "graph.run(query)"
   ]
  },
  {
   "cell_type": "code",
   "execution_count": 12,
   "id": "5df8caa5",
   "metadata": {},
   "outputs": [
    {
     "data": {
      "text/html": [
       "<table><tr><th>avg(nombre)</th></tr><tr><td style=\"text-align:right\">4.5</td></tr></table>"
      ],
      "text/plain": [
       " avg(nombre) \n",
       "-------------\n",
       "         4.5 "
      ]
     },
     "execution_count": 12,
     "metadata": {},
     "output_type": "execute_result"
    }
   ],
   "source": [
    "# 4. In average how many actors are there in a movie ?\n",
    "\n",
    "query = \"\"\"\n",
    "    MATCH (m:Movie)<-[:ACTED_IN]-(play:Person)\n",
    "    with m, count(play.name) as nombre\n",
    "    return avg(nombre)\n",
    "    \"\"\"\n",
    "graph.run(query)"
   ]
  },
  {
   "cell_type": "code",
   "execution_count": 13,
   "id": "a082de7e",
   "metadata": {},
   "outputs": [
    {
     "data": {
      "text/html": [
       "<table><tr><th>avg(nombre)</th></tr><tr><td style=\"text-align:right\">1.2857142857142856</td></tr></table>"
      ],
      "text/plain": [
       "        avg(nombre) \n",
       "--------------------\n",
       " 1.2857142857142856 "
      ]
     },
     "execution_count": 13,
     "metadata": {},
     "output_type": "execute_result"
    }
   ],
   "source": [
    "# 5. In average how many writers is needed to write a movie ?\n",
    "\n",
    "query= \"\"\"\n",
    "     MATCH (P:Person)-[:WROTE]->(m:Movie)\n",
    "     with m,count(P.name) as nombre\n",
    "     RETURN avg(nombre)\n",
    "\"\"\"\n",
    "graph.run(query)"
   ]
  },
  {
   "cell_type": "code",
   "execution_count": 14,
   "id": "0d0f039f",
   "metadata": {},
   "outputs": [
    {
     "data": {
      "text/html": [
       "<table><tr><th>floor(ecrivain/180 )</th></tr><tr><td style=\"text-align:right\">0.0</td></tr></table>"
      ],
      "text/plain": [
       " floor(ecrivain/180 ) \n",
       "----------------------\n",
       "                  0.0 "
      ]
     },
     "execution_count": 14,
     "metadata": {},
     "output_type": "execute_result"
    }
   ],
   "source": [
    "# 6. What is the proportion of writers that also directed the movie ?\n",
    "\n",
    "query =\"\"\"\n",
    "    MATCH (m:Movie)<-[:ACTED_IN]-(play:Person)\n",
    "     return count(play.name) as acteur\n",
    "     \"\"\"\n",
    "query1 = \"\"\"\n",
    "     MATCH (P:Person)-[:WROTE]->(m:Movie)\n",
    "     with count(P.name) as ecrivain\n",
    "     RETURN floor(ecrivain/180 )\n",
    "     \"\"\"\n",
    "graph.run(query)\n",
    "graph.run(query1)"
   ]
  },
  {
   "cell_type": "code",
   "execution_count": 16,
   "id": "6fd5f754",
   "metadata": {},
   "outputs": [
    {
     "name": "stderr",
     "output_type": "stream",
     "text": [
      "/Users/zac/opt/anaconda3/lib/python3.9/site-packages/seaborn/distributions.py:2619: FutureWarning: `distplot` is a deprecated function and will be removed in a future version. Please adapt your code to use either `displot` (a figure-level function with similar flexibility) or `histplot` (an axes-level function for histograms).\n",
      "  warnings.warn(msg, FutureWarning)\n"
     ]
    },
    {
     "data": {
      "text/plain": [
       "<AxesSubplot:xlabel='year.released', ylabel='Density'>"
      ]
     },
     "execution_count": 16,
     "metadata": {},
     "output_type": "execute_result"
    },
    {
     "data": {
      "image/png": "[encoded data removed]",
      "text/plain": [
       "<Figure size 640x480 with 1 Axes>"
      ]
     },
     "metadata": {},
     "output_type": "display_data"
    }
   ],
   "source": [
    "# 7. Do an histogram of the year of release for the movies.\n",
    "\n",
    "import seaborn as sns\n",
    "%matplotlib inline\n",
    "query = \"\"\" Match (year:Movie) return year.released \"\"\"\n",
    "data = graph.run(query).to_data_frame() \n",
    "sns.distplot(data['year.released'])"
   ]
  },
  {
   "cell_type": "code",
   "execution_count": 17,
   "id": "03130893",
   "metadata": {},
   "outputs": [
    {
     "data": {
      "text/html": [
       "<table><tr><th>play.name</th><th>ma</th></tr><tr><td style=\"text-align:left\">Tom Hanks</td><td style=\"text-align:right\">12</td></tr><tr><td style=\"text-align:left\">Keanu Reeves</td><td style=\"text-align:right\">7</td></tr><tr><td style=\"text-align:left\">Meg Ryan</td><td style=\"text-align:right\">5</td></tr></table>"
      ],
      "text/plain": [
       " play.name    | ma \n",
       "--------------|----\n",
       " Tom Hanks    | 12 \n",
       " Keanu Reeves |  7 \n",
       " Meg Ryan     |  5 "
      ]
     },
     "execution_count": 17,
     "metadata": {},
     "output_type": "execute_result"
    }
   ],
   "source": [
    "# 8. Who are the 10 actors with the most movie played in\n",
    "\n",
    "query = \"\"\"\n",
    "    MATCH (m:Movie)<-[:ACTED_IN]-(play:Person)\n",
    "    return play.name ,count(m) as ma\n",
    "    Order by ma desc\n",
    "    Limit 10\n",
    "    \"\"\"\n",
    "graph.run(query)"
   ]
  },
  {
   "cell_type": "code",
   "execution_count": 20,
   "id": "dddbbf60",
   "metadata": {},
   "outputs": [
    {
     "data": {
      "text/html": [
       "(No data)"
      ],
      "text/plain": [
       "(No data)"
      ]
     },
     "execution_count": 20,
     "metadata": {},
     "output_type": "execute_result"
    }
   ],
   "source": [
    "# 9. Delete every movie made by a director of your choosing\n",
    "\n",
    "query=\"\"\"\n",
    " MATCH (p:Person{name:\"Quentin Tarantino\"})-[r:ACTED_IN]->(m:Movie)\n",
    " DETACH DELETE m\n",
    " \"\"\"\n",
    "graph.run(query)"
   ]
  },
  {
   "cell_type": "code",
   "execution_count": 24,
   "id": "d0727171",
   "metadata": {},
   "outputs": [
    {
     "data": {
      "text/html": [
       "<table><tr><th>year.released</th></tr><tr><td style=\"text-align:right\">1999</td></tr><tr><td style=\"text-align:right\">2003</td></tr><tr><td style=\"text-align:right\">2003</td></tr></table>"
      ],
      "text/plain": [
       " year.released \n",
       "---------------\n",
       "          1999 \n",
       "          2003 \n",
       "          2003 "
      ]
     },
     "execution_count": 24,
     "metadata": {},
     "output_type": "execute_result"
    }
   ],
   "source": [
    "# 10. Give some statistics that you find interesting.\n",
    "\n",
    "query = \"\"\"\n",
    "    Match (year:Movie) return year.released\n",
    "\"\"\"\n",
    "graph.run(query)\n",
    "\n",
    "# Funny yo see the differents years"
   ]
  }
 ],
 "metadata": {
  "kernelspec": {
   "display_name": "Python 3 (ipykernel)",
   "language": "python",
   "name": "python3"
  },
  "language_info": {
   "codemirror_mode": {
    "name": "ipython",
    "version": 3
   },
   "file_extension": ".py",
   "mimetype": "text/x-python",
   "name": "python",
   "nbconvert_exporter": "python",
   "pygments_lexer": "ipython3",
   "version": "3.9.13"
  }
 },
 "nbformat": 4,
 "nbformat_minor": 5
}
