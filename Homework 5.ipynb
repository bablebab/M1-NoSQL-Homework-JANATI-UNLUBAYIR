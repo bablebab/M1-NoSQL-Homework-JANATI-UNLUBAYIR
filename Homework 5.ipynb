{
 "cells": [
  {
   "cell_type": "code",
   "execution_count": 1,
   "id": "9a900538",
   "metadata": {},
   "outputs": [],
   "source": [
    "## Homework 5"
   ]
  },
  {
   "cell_type": "code",
   "execution_count": 3,
   "id": "258aa72b",
   "metadata": {},
   "outputs": [],
   "source": [
    "import pandas as pd\n",
    "import tqdm\n",
    "import py2neo\n",
    "import itertools\n",
    "import seaborn as sns\n",
    "import pandas as pd\n",
    "\n",
    "graph = py2neo.Graph(\"bolt:://localhost:7687\", auth=(\"neo4j\", \"password4j\"), name=\"neo4j\")\n",
    "target = pd.read_csv('/Users/zac/Downloads/FR_target.csv')\n",
    "edges = pd.read_csv('/Users/zac/Downloads/FR_edges.csv')"
   ]
  },
  {
   "cell_type": "code",
   "execution_count": null,
   "id": "bd5b0792",
   "metadata": {},
   "outputs": [],
   "source": [
    "# 1) Give the IDs of the top 10 streamers that have atleast one collaboration.\n",
    "\n",
    "try:\n",
    "    graph.run(\"CREATE CONSTRAINT ON (n:Streamer) ASSERT n.id_ IS UNIQUE\")\n",
    "except:\n",
    "    print(\"Constraint already exists\")\n",
    "  \n",
    "transaction_list = []\n",
    "\n",
    "iteration = 0\n",
    "for row in tqdm.tqdm(target.iterrows()):\n",
    "    id_ = row[1][\"id\"]\n",
    "    views = row[1][\"views\"] \n",
    "    days = row[1][\"days\"]\n",
    "    mature = row[1][\"mature\"] \n",
    "    new_id = row[1][\"new_id\"]\n",
    "    partner = row[1][\"partner\"] \n",
    "    transaction_list.append({\"id_\":id_,\"views\":views,\"days\":days,\"mature\":mature,\"new_id\":new_id,\"partner\":partner})\n",
    "    iteration += 1\n",
    "    if iteration % 1000 == 0:\n",
    "        transaction = \"UNWIND $json as data CREATE (n:Streamer) SET n = data\"\n",
    "        graph.run(transaction, json=transaction_list)\n",
    "        transaction_list = []\n",
    "        \n",
    "graph.run(transaction, json=transaction_list)"
   ]
  },
  {
   "cell_type": "code",
   "execution_count": 59,
   "id": "79d05d9b",
   "metadata": {},
   "outputs": [
    {
     "name": "stderr",
     "output_type": "stream",
     "text": [
      "100%|████████████████████████████████████████████████████████████████████████████| 5882/5882 [2:49:18<00:00,  1.73s/it]\n"
     ]
    },
    {
     "data": {
      "text/html": [
       "(No data)"
      ],
      "text/plain": [
       "(No data)"
      ]
     },
     "execution_count": 59,
     "metadata": {},
     "output_type": "execute_result"
    }
   ],
   "source": [
    "transaction_list = []\n",
    "\n",
    "\n",
    "transaction = \"\"\"UNWIND $json as data\n",
    "MATCH (a:Streamer),(b:Streamer)\n",
    "WHERE a.new_id = data.from AND b.new_id = data.to\n",
    "MERGE (a)-[r:RELATION]->(b)\n",
    "ON CREATE\n",
    "    SET r.n_collab = 1\n",
    "ON MATCH\n",
    "    SET r.n_collab = r.n_collab + 1\n",
    "\"\"\"\n",
    "\n",
    "it = 0   \n",
    "for edge in tqdm.tqdm(edges.groupby([\"from\"])):\n",
    "    related_ids = edge[1][\"to\"]\n",
    "    for combi in list(itertools.combinations(related_ids, 2)):\n",
    "        sh1 = combi[0]\n",
    "        sh2 = combi[1]\n",
    "        transaction_list.append({\"from\":sh1,\"to\":sh2})\n",
    "        it +=1\n",
    "        if it % 1000 == 0:\n",
    "            graph.run(transaction, json=transaction_list)\n",
    "            transaction_list = []\n",
    "\n",
    "graph.run(transaction, json=transaction_list)"
   ]
  },
  {
   "cell_type": "code",
   "execution_count": 60,
   "id": "79b5cdc9",
   "metadata": {},
   "outputs": [
    {
     "data": {
      "text/plain": [
       "[Node('Streamer', days=1372, id_=79360207, mature=False, new_id=4900, partner=True, views=26710589),\n",
       " Node('Streamer', days=228, id_=198506129, mature=False, new_id=5516, partner=True, views=23653368),\n",
       " Node('Streamer', days=2478, id_=27115917, mature=False, new_id=142, partner=True, views=9524566),\n",
       " Node('Streamer', days=2853, id_=18887776, mature=True, new_id=5310, partner=True, views=9194058),\n",
       " Node('Streamer', days=2430, id_=28269648, mature=False, new_id=2898, partner=True, views=7387278),\n",
       " Node('Streamer', days=1676, id_=58619946, mature=False, new_id=5684, partner=True, views=5011064),\n",
       " Node('Streamer', days=2133, id_=38350595, mature=False, new_id=4719, partner=True, views=4831573),\n",
       " Node('Streamer', days=1806, id_=50926401, mature=False, new_id=1939, partner=True, views=4135662),\n",
       " Node('Streamer', days=2280, id_=32042515, mature=True, new_id=4627, partner=True, views=4128354),\n",
       " Node('Streamer', days=1991, id_=43043577, mature=True, new_id=1100, partner=True, views=4009806)]"
      ]
     },
     "execution_count": 60,
     "metadata": {},
     "output_type": "execute_result"
    }
   ],
   "source": [
    "query = \"\"\"MATCH (video:Streamer)\n",
    "WHERE exists(video.id_)\n",
    "RETURN video\n",
    "ORDER BY video.views DESC\n",
    "LIMIT 10\"\"\"\n",
    "data = graph.run(query).to_data_frame()\n",
    "list(data[\"video\"])"
   ]
  },
  {
   "cell_type": "code",
   "execution_count": 61,
   "id": "266ca825",
   "metadata": {},
   "outputs": [
    {
     "name": "stderr",
     "output_type": "stream",
     "text": [
      "C:\\ProgramData\\Anaconda3\\lib\\site-packages\\seaborn\\distributions.py:2619: FutureWarning: `distplot` is a deprecated function and will be removed in a future version. Please adapt your code to use either `displot` (a figure-level function with similar flexibility) or `kdeplot` (an axes-level function for kernel density plots).\n",
      "  warnings.warn(msg, FutureWarning)\n"
     ]
    },
    {
     "data": {
      "image/png": "[encoded data removed]",
      "text/plain": [
       "<Figure size 432x288 with 1 Axes>"
      ]
     },
     "metadata": {
      "needs_background": "light"
     },
     "output_type": "display_data"
    }
   ],
   "source": [
    "# 2. Create a density of node degrees.Do you observe a power scale law? what does it mean?\n",
    "\n",
    "query =  \"\"\"\n",
    "MATCH (p)\n",
    "WITH p, size((p)-[:RELATION]->()) as degree\n",
    "RETURN degree;\n",
    "\"\"\"\n",
    "data = graph.run(query).to_data_frame()\n",
    "ax = sns.distplot(data[\"degree\"],hist=False)\n",
    "ax.title.set_text(\"Density of degrees\")"
   ]
  },
  {
   "cell_type": "code",
   "execution_count": 62,
   "id": "91acd34d",
   "metadata": {},
   "outputs": [
    {
     "data": {
      "text/html": [
       "<table><tr><th>n</th></tr><tr><td style=\"text-align:right\">361</td></tr></table>"
      ],
      "text/plain": [
       "   n \n",
       "-----\n",
       " 361 "
      ]
     },
     "execution_count": 62,
     "metadata": {},
     "output_type": "execute_result"
    }
   ],
   "source": [
    "# 3. How many streamers has the tag \"mature\"?\n",
    "\n",
    "query = \"\"\" MATCH (video:Streamer) WHERE video.mature=true with count(video) as n RETURN n \"\"\"\n",
    "graph.run(query)"
   ]
  },
  {
   "cell_type": "code",
   "execution_count": 63,
   "id": "8d52b84e",
   "metadata": {},
   "outputs": [
    {
     "data": {
      "text/html": [
       "<table><tr><th>video.mature</th></tr><tr><td style=\"text-align:left\">true</td></tr><tr><td style=\"text-align:left\">true</td></tr><tr><td style=\"text-align:left\">true</td></tr></table>"
      ],
      "text/plain": [
       " video.mature \n",
       "--------------\n",
       " true         \n",
       " true         \n",
       " true         "
      ]
     },
     "execution_count": 63,
     "metadata": {},
     "output_type": "execute_result"
    }
   ],
   "source": [
    "# 4. Is the collaboration correlated to the \"mature\" tags?\n",
    "\n",
    "query = \"\"\"MATCH (video:Streamer)-[r:RELATION]->(n_collab)  where video.mature = TRUE  RETURN video.mature \"\"\"\n",
    "graph.run(query)"
   ]
  },
  {
   "cell_type": "code",
   "execution_count": 64,
   "id": "e77f911c",
   "metadata": {},
   "outputs": [
    {
     "data": {
      "text/html": [
       "<table><tr><th>n</th></tr><tr><td style=\"text-align:right\">931</td></tr></table>"
      ],
      "text/plain": [
       "   n \n",
       "-----\n",
       " 931 "
      ]
     },
     "execution_count": 64,
     "metadata": {},
     "output_type": "execute_result"
    }
   ],
   "source": [
    "# 5. Do partners collaborate more than non partners ?\n",
    "\n",
    "query=\"\"\"\n",
    "MATCH (video:Streamer)\n",
    "WHERE video.partner=true\n",
    "with count(video) as n\n",
    "RETURN n\n",
    "\"\"\"\n",
    "graph.run(query)\n",
    "query1=\"\"\"MATCH (video:Streamer) WHERE video.partner=false with count(video) as n RETURN n \"\"\"\n",
    "graph.run(query1) "
   ]
  }
 ],
 "metadata": {
  "celltoolbar": "Aucun(e)",
  "kernelspec": {
   "display_name": "Python 3 (ipykernel)",
   "language": "python",
   "name": "python3"
  },
  "language_info": {
   "codemirror_mode": {
    "name": "ipython",
    "version": 3
   },
   "file_extension": ".py",
   "mimetype": "text/x-python",
   "name": "python",
   "nbconvert_exporter": "python",
   "pygments_lexer": "ipython3",
   "version": "3.9.13"
  }
 },
 "nbformat": 4,
 "nbformat_minor": 5
}
